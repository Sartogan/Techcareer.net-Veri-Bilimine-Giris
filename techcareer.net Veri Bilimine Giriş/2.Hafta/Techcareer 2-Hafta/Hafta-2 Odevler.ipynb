{
 "cells": [
  {
   "cell_type": "code",
   "id": "initial_id",
   "metadata": {
    "collapsed": true,
    "ExecuteTime": {
     "end_time": "2025-08-29T09:30:02.416699Z",
     "start_time": "2025-08-29T09:29:57.690865Z"
    }
   },
   "source": [
    "# Soru 1\n",
    "\n",
    "sayi = float(input(f\"Lütfen bir sayi giriniz: \"))\n",
    "\n",
    "if sayi > 0 and sayi % 2 == 0:\n",
    "    print (\"Pozitif ve çift\")\n",
    "elif sayi > 0 and sayi % 2 != 0:\n",
    "    print(\"Pozitif ve tek\")\n",
    "elif sayi <0 and sayi % 2 == 0:\n",
    "    print (\"Negatif ve çift\")\n",
    "elif sayi <0 and sayi % 2 != 0:\n",
    "    print(\"Negatif ve tek\")\n"
   ],
   "outputs": [
    {
     "name": "stdout",
     "output_type": "stream",
     "text": [
      "Pozitif ve çift\n"
     ]
    }
   ],
   "execution_count": 1
  },
  {
   "metadata": {},
   "cell_type": "code",
   "outputs": [],
   "execution_count": null,
   "source": [
    "# Soru 2\n",
    "\n",
    "kelime = input(f\"Lütfen bir kelime giriniz: \")\n",
    "\n",
    "harf_sayilari = {}\n",
    "\n",
    "for harf in kelime:\n",
    "    if harf in harf_sayilari:\n",
    "        harf_sayilari[harf] += 1\n",
    "    else:\n",
    "        harf_sayilari[harf] = 1\n",
    "\n",
    "print(harf_sayilari)"
   ],
   "id": "240b1c963919e4c8"
  },
  {
   "metadata": {},
   "cell_type": "code",
   "outputs": [],
   "execution_count": null,
   "source": [
    "# Soru 3\n",
    "\n",
    "sifre = input(f\"Lütfen bir şifre giriniz: \")\n",
    "\n",
    "uzunluk_kontrolu = len(sifre) >= 8\n",
    "\n",
    "buyuk_harf_kontrolu = False\n",
    "\n",
    "for karakter in sifre:\n",
    "    if karakter.isupper():\n",
    "        buyuk_harf_kontrolu = True\n",
    "        break\n",
    "\n",
    "rakam_kontrolu = False\n",
    "\n",
    "for karakter in sifre:\n",
    "    if karakter.isdigit():\n",
    "        rakam_kontrolu = True\n",
    "        break\n",
    "\n",
    "\n",
    "if uzunluk_kontrolu and buyuk_harf_kontrolu and rakam_kontrolu:\n",
    "    print(\"Sifre gecerli\")\n",
    "else:\n",
    "    print(\"Sifre gecersiz\")\n",
    "    if not uzunluk_kontrolu:\n",
    "        print(\"- Sifre en az 8 karakter olmali\")\n",
    "    if not buyuk_harf_kontrolu:\n",
    "        print(\"- Sifrede en az 1 büyük harf bulunmali\")\n",
    "    if not rakam_kontrolu:\n",
    "        print(\"- Sifrede en az 1 rakam bulunmali\")"
   ],
   "id": "f1b0e1ef0e1063ec"
  },
  {
   "metadata": {},
   "cell_type": "code",
   "outputs": [],
   "execution_count": null,
   "source": [
    "# Soru 4\n",
    "\n",
    "sayilar = [12, 4, 9, 25, 30, 7, 18]\n",
    "\n",
    "toplam = sum(sayilar)\n",
    "adet= len(sayilar)\n",
    "ortalama = toplam / adet\n",
    "\n",
    "buyukler = []\n",
    "\n",
    "for sayi in sayilar:\n",
    "    if sayi > ortalama:\n",
    "        buyukler.appendd(sayi)\n",
    "\n",
    "print(f\"Listenin ortalamasi: {ortalama: .2f}\")\n",
    "print(f\"Ortalamadan büyük sayilar: {buyukler}\")"
   ],
   "id": "ee33e9d3601cfc2c"
  },
  {
   "metadata": {},
   "cell_type": "code",
   "outputs": [],
   "execution_count": null,
   "source": [
    "# Soru 5\n",
    "\n",
    "for satir in range (1, 6):\n",
    "   for yildiz in range(satir):\n",
    "        print(\"*\", end=\"\")\n",
    "print()"
   ],
   "id": "9150232b1185be3a"
  },
  {
   "metadata": {},
   "cell_type": "code",
   "outputs": [],
   "execution_count": null,
   "source": [
    "# Soru 6\n",
    "\n",
    "toplam = 0\n",
    "adet = 0\n",
    "\n",
    "sayi = int(input(\"Bir sayi giriniz: \"))\n",
    "\n",
    "while sayi != 0:\n",
    "    toplam += sayi\n",
    "    adet += 1\n",
    "    sayi = int(input(\"Bir sayi giriniz\"))\n",
    "\n",
    "if adet > 0:\n",
    "    ortalama = toplam / adet\n",
    "    print(f\"\\nToplam: {toplam}\")\n",
    "    print(f\"Ortalama: {ortalama: .2f}\")\n",
    "else:\n",
    "    print(\"\\nHic sayi girilmedi.\")"
   ],
   "id": "2492442c5667759c"
  },
  {
   "metadata": {},
   "cell_type": "code",
   "outputs": [],
   "execution_count": null,
   "source": [
    "# Soru 7\n",
    "\n",
    "kelime = input(\"Bir kelime giriniz: \" )\n",
    "ters_kelime = kelime[::-1]\n",
    "\n",
    "if kelime == ters_kelime:\n",
    "    print(\"Palindrom\")\n",
    "else:\n",
    "    print(\"Palindrom değil\")"
   ],
   "id": "11f680b4289aaed1"
  },
  {
   "metadata": {},
   "cell_type": "code",
   "outputs": [],
   "execution_count": null,
   "source": [
    "# Soru 8\n",
    "\n",
    "sayilar = range (1, 100)\n",
    "\n",
    "listem = []\n",
    "\n",
    "for sayi in sayilar:\n",
    "    if sayi % 3 == 0 and sayi % 5 == 0:\n",
    "        listem.append(sayi)\n",
    "\n",
    "print(listem)"
   ],
   "id": "c899417c6fe52ce4"
  },
  {
   "metadata": {},
   "cell_type": "code",
   "outputs": [],
   "execution_count": null,
   "source": [
    "# Soru 9\n",
    "\n",
    "cümle = input(\"Bir cümle giriniz: \")\n",
    "\n",
    "kelime_havuzu = cümle.split()\n",
    "print(kelime_havuzu)\n",
    "\n",
    "yeni_kelime_listesi = []\n",
    "\n",
    "for kelime in kelime_havuzu:\n",
    "    yeni_kelime = kelime.capitalize()\n",
    "    yeni_kelime_listesi.append(yeni_kelime)\n",
    "\n",
    "yeni_cümle = \" \".join(yeni_kelime_listesi)\n",
    "print(yeni_cümle)"
   ],
   "id": "33356615f68929a1"
  },
  {
   "metadata": {},
   "cell_type": "code",
   "outputs": [],
   "execution_count": null,
   "source": [
    "# Soru 10\n",
    "\n",
    "print(\"Lütfen film ile ilgili 6 adet yorum giriniz:\")\n",
    "yorumlar = []\n",
    "\n",
    "for i in range(6):\n",
    "    yorum = input(f\"{i+1}. yorum: \")\n",
    "    yorumlar.append(yorum)\n",
    "\n",
    "print(f\"\\nFilm ile ilgili yorumlar: {yorumlar}\")\n",
    "\n",
    "uzunluklar = []\n",
    "\n",
    "for yorum in yorumlar:\n",
    "    uzunluklar.append(len(yorum))\n",
    "\n",
    "\n",
    "iyi_sayisi = 0\n",
    "\n",
    "for yorum in yorumlar:\n",
    "    if \"iyi\" in yorum.lower():\n",
    "        iyi_sayisi += 1\n",
    "\n",
    "en_uzun_yorum = max(yorumlar, key=len)\n",
    "en_kisa_yorum = min(yorumlar, key=len)\n",
    "\n",
    "toplam_karakter = sum(uzunluklar)\n",
    "ortalama_uzunluk = toplam_karakter / len(yorumlar)\n",
    "\n",
    "print(f\"\\n 'iyi' kelimesi geçen yorum sayisi: {iyi_sayisi}\")\n",
    "print(f\"En uzun yorum: {en_uzun_yorum}\")\n",
    "print(f\"En kisa yorum: {en_kisa_yorum}\")\n",
    "print(f\"Yorumlarin ortalama uzunlugu: {ortalama_uzunluk: .2f} karakter\")"
   ],
   "id": "69a15dd594b09fa5"
  }
 ],
 "metadata": {
  "kernelspec": {
   "display_name": "Python 3",
   "language": "python",
   "name": "python3"
  },
  "language_info": {
   "codemirror_mode": {
    "name": "ipython",
    "version": 2
   },
   "file_extension": ".py",
   "mimetype": "text/x-python",
   "name": "python",
   "nbconvert_exporter": "python",
   "pygments_lexer": "ipython2",
   "version": "2.7.6"
  }
 },
 "nbformat": 4,
 "nbformat_minor": 5
}
