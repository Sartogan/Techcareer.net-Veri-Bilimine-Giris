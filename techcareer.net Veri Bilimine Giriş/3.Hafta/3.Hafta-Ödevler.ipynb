{
 "cells": [
  {
   "cell_type": "code",
   "execution_count": 1,
   "id": "initial_id",
   "metadata": {
    "collapsed": true,
    "jupyter": {
     "is_executing": true
    }
   },
   "outputs": [
    {
     "name": "stdout",
     "output_type": "stream",
     "text": [
      "Tekrar etmeyen notlar: [100, 92, 85, 76]\n",
      "En yüksek not: 100\n",
      "En düşük not: 76\n",
      "Siralanmiş notlar: [76, 85, 92, 100]\n"
     ]
    }
   ],
   "source": [
    "notlar = [85, 92, 76, 92, 100, 76, 85, 92]\n",
    "\n",
    "benzersiz_notlar = list(set(notlar))\n",
    "print(f\"Tekrar etmeyen notlar: {benzersiz_notlar}\")\n",
    "\n",
    "en_yuksek = max(benzersiz_notlar)\n",
    "en_dusuk = min(benzersiz_notlar)\n",
    "\n",
    "print(f\"En yüksek not: {en_yuksek}\")\n",
    "print(f\"En düşük not: {en_dusuk}\")\n",
    "\n",
    "\n",
    "sirali_notlar = sorted(benzersiz_notlar)\n",
    "print(f\"Siralanmiş notlar: {sirali_notlar}\")"
   ]
  },
  {
   "cell_type": "code",
   "execution_count": 2,
   "id": "6fbda21c57fd8679",
   "metadata": {},
   "outputs": [],
   "source": [
    "def armstrong(sayi):\n",
    "    toplam = 0\n",
    "    gecici = sayi\n",
    "\n",
    "    while gecici > 0:\n",
    "        basamak = gecici % 10\n",
    "        toplam += basamak ** 3\n",
    "        gecici //= 10\n",
    "\n",
    "    return toplam == sayi"
   ]
  },
  {
   "cell_type": "code",
   "execution_count": null,
   "id": "e65df255",
   "metadata": {},
   "outputs": [],
   "source": [
    "A = {\"Python\", \"R\", \"SQL\", \"Java\"}\n",
    "B = {\"C++\", \"Python\", \"JavaScript\", \"SQL\"}\n",
    "\n",
    "ortak_diller = A.intersection(B)\n",
    "sadece_A = A.difference(B)\n",
    "birlesim = A.union(B)\n",
    "sirali_birlesim = sorted(birlesim)\n",
    "\n",
    "print(f\"Ortak diller: {ortak_diller}\")\n",
    "print(f\"Sadece A'da olan diller: {sadece_A}\")\n",
    "print(f\"Birleşim (alfabetik): {sirali_birlesim}\")"
   ]
  },
  {
   "cell_type": "code",
   "execution_count": null,
   "id": "fbf3cbcd",
   "metadata": {},
   "outputs": [],
   "source": [
    "import random\n",
    "import statistics\n",
    "\n",
    "sayilar = []\n",
    "\n",
    "for i in range(10):\n",
    "    rastgele_sayi = random.randint(1, 100)\n",
    "    sayilar.append(rastgele_sayi)\n",
    "\n",
    "ortalama = statistics.mean(sayilar)\n",
    "standart_sapma = statistics.stdev(sayilar)\n",
    "\n",
    "print(f\"Rastgele sayilar: {sayilar}\")\n",
    "print(f\"Ortalama: {ortalama:.2f}\")\n",
    "print(f\"Standart sapma: {standart_sapma:.2f}\")"
   ]
  },
  {
   "cell_type": "code",
   "execution_count": null,
   "id": "2274d0ec",
   "metadata": {},
   "outputs": [],
   "source": [
    "def kelime_sayaci(metin):\n",
    "    kelimeler = metin.split()\n",
    "    \n",
    "    toplam_kelime = len(kelimeler)\n",
    "    en_uzun_kelime = max(kelimeler, key=len)\n",
    "    \n",
    "    frekans = {}\n",
    "    for kelime in kelimeler:\n",
    "        kelime = kelime.lower()  \n",
    "        if kelime in frekans:\n",
    "            frekans[kelime] += 1\n",
    "        else:\n",
    "            frekans[kelime] = 1\n",
    "    \n",
    "    en_sik_kelime = max(frekans, key=frekans.get)\n",
    "    \n",
    "    return toplam_kelime, en_uzun_kelime, en_sik_kelime"
   ]
  },
  {
   "cell_type": "code",
   "execution_count": null,
   "id": "d973542b",
   "metadata": {},
   "outputs": [],
   "source": [
    "sayilar = [5, 12, 7, 18, 24, 3, 16]\n",
    "\n",
    "ciftler = list(filter(lambda x: x % 2 == 0, sayilar))\n",
    "kareler = list(map(lambda x: x ** 2, ciftler))\n",
    "sirali_kareler = sorted(kareler, reverse=True)\n",
    "\n",
    "print(f\"Çift sayilar: {ciftler}\")\n",
    "print(f\"Kareleri: {kareler}\")\n",
    "print(f\"Azalan sirali kareler: {sirali_kareler}\")"
   ]
  },
  {
   "cell_type": "code",
   "execution_count": null,
   "id": "accf9e66",
   "metadata": {},
   "outputs": [],
   "source": [
    "kelimeler = [\"veri\", \"bilim\", \"analiz\", \"yapayzeka\", \"python\"]\n",
    "\n",
    "sirali_kelimeler = sorted(kelimeler, key=lambda kelime: len(kelime))\n",
    "\n",
    "print(f\"Uzunluğa göre siralanmiş kelimeler: {sirali_kelimeler}\")"
   ]
  },
  {
   "cell_type": "code",
   "execution_count": null,
   "id": "9683e7fa",
   "metadata": {},
   "outputs": [],
   "source": [
    "def rakam_toplami(metin):\n",
    "    toplam = 0\n",
    "    sayi = \"\"\n",
    "\n",
    "    for karakter in metin:\n",
    "        if karakter.isdigit():\n",
    "            sayi += karakter\n",
    "        else:\n",
    "            if sayi != \"\":\n",
    "                toplam += int(sayi)\n",
    "                sayi = \"\"\n",
    "\n",
    "    if sayi != \"\":\n",
    "        toplam += int(sayi)\n",
    "\n",
    "    return toplam"
   ]
  },
  {
   "cell_type": "code",
   "execution_count": 4,
   "id": "1aa327b9",
   "metadata": {},
   "outputs": [
    {
     "name": "stdout",
     "output_type": "stream",
     "text": [
      "En çok satan kitap: {'isim': 'Makine Öğrenmesi', 'yazar': 'Can', 'tur': 'Bilim', 'satis': 1800, 'yil': 2022}\n",
      "Yazar satişlari: {'Ali': 3400, 'Ayşe': 1550, 'Can': 1800, 'Deniz': 400}\n",
      "Kitap türleri: {'Sanat', 'Sosyal', 'Bilim', 'Akademik'}\n",
      "Popüler kitaplar: ['Veri Bilimi 101', 'Makine Öğrenmesi', 'Matematiksel Modelleme']\n",
      "2020 sonrasi çikanlar: ['Veri Bilimi 101', 'Makine Öğrenmesi', 'Matematiksel Modelleme', 'Bilgi Toplumu']\n",
      "Zamli satişlar: [1320, 1045, 770, 1980, 440, 1650, 660]\n",
      "Satişa göre sirali kitaplar: ['Makine Öğrenmesi', 'Matematiksel Modelleme', 'Veri Bilimi 101', 'Python ile Yapay Zeka', 'İstatistik Temelleri', 'Bilgi Toplumu', 'Veri Görselleştirme']\n",
      "Ortalama satiş: 1021.4285714285714\n",
      "En çok satan tür: Bilim\n",
      "Satişlarin standart sapmasi: 506.5053001179939\n",
      "Train set yazar ortalamalari: {'Ali': 1100.0, 'Ayşe': 775.0}\n",
      "Test sette ortalamanin üstünde satan kitaplar: ['Veri Bilimi 101', 'Makine Öğrenmesi', 'Veri Görselleştirme']\n"
     ]
    }
   ],
   "source": [
    "kitaplar = [\n",
    "    {\"isim\": \"Veri Bilimi 101\", \"yazar\": \"Ali\", \"tur\": \"Bilim\", \"satis\": 1200, \"yil\": 2021},\n",
    "    {\"isim\": \"Python ile Yapay Zeka\", \"yazar\": \"Ayşe\", \"tur\": \"Bilim\", \"satis\": 950, \"yil\": 2020},\n",
    "    {\"isim\": \"İstatistik Temelleri\", \"yazar\": \"Ali\", \"tur\": \"Akademik\", \"satis\": 700, \"yil\": 2019},\n",
    "    {\"isim\": \"Makine Öğrenmesi\", \"yazar\": \"Can\", \"tur\": \"Bilim\", \"satis\": 1800, \"yil\": 2022},\n",
    "    {\"isim\": \"Veri Görselleştirme\", \"yazar\": \"Deniz\", \"tur\": \"Sanat\", \"satis\": 400, \"yil\": 2018},\n",
    "    {\"isim\": \"Matematiksel Modelleme\", \"yazar\": \"Ali\", \"tur\": \"Akademik\", \"satis\": 1500, \"yil\": 2021},\n",
    "    {\"isim\": \"Bilgi Toplumu\", \"yazar\": \"Ayşe\", \"tur\": \"Sosyal\", \"satis\": 600, \"yil\": 2022}\n",
    "]\n",
    "\n",
    "def en_cok_satan(kitaplar):\n",
    "    return max(kitaplar, key=lambda x: x[\"satis\"])\n",
    "\n",
    "def yazar_satislari(kitaplar):\n",
    "    yazarlar = {}\n",
    "    for kitap in kitaplar:\n",
    "        yazar = kitap[\"yazar\"]\n",
    "        yazarlar[yazar] = yazarlar.get(yazar, 0) + kitap[\"satis\"]\n",
    "    return yazarlar\n",
    "\n",
    "\n",
    "turler = set(kitap[\"tur\"] for kitap in kitaplar)\n",
    "\n",
    "populer_kitaplar = [kitap[\"isim\"] for kitap in kitaplar if kitap[\"satis\"] > 1000]\n",
    "\n",
    "\n",
    "yeni_kitaplar = list(filter(lambda x: x[\"yil\"] > 2020, kitaplar))\n",
    "\n",
    "\n",
    "zamli_satislar = list(map(lambda x: int(x[\"satis\"] * 1.10), kitaplar))\n",
    "\n",
    "\n",
    "sirali_kitaplar = sorted(kitaplar, key=lambda x: x[\"satis\"], reverse=True)\n",
    "\n",
    "import statistics\n",
    "\n",
    "\n",
    "ortalama_satis = statistics.mean([kitap[\"satis\"] for kitap in kitaplar])\n",
    "\n",
    "\n",
    "from collections import defaultdict\n",
    "tur_satislari = defaultdict(int)\n",
    "for kitap in kitaplar:\n",
    "    tur_satislari[kitap[\"tur\"]] += kitap[\"satis\"]\n",
    "en_populer_tur = max(tur_satislari, key=tur_satislari.get)\n",
    "\n",
    "\n",
    "std_sapma = statistics.stdev([kitap[\"satis\"] for kitap in kitaplar])\n",
    "\n",
    "\n",
    "import random\n",
    "\n",
    "\n",
    "train_boyutu = int(len(kitaplar) * 0.7)\n",
    "train_set = random.sample(kitaplar, train_boyutu)\n",
    "test_set = [kitap for kitap in kitaplar if kitap not in train_set]\n",
    "\n",
    "\n",
    "yazar_satis = {}\n",
    "yazar_sayisi = {}\n",
    "\n",
    "for kitap in train_set:\n",
    "    yazar = kitap[\"yazar\"]\n",
    "    yazar_satis[yazar] = yazar_satis.get(yazar, 0) + kitap[\"satis\"]\n",
    "    yazar_sayisi[yazar] = yazar_sayisi.get(yazar, 0) + 1\n",
    "\n",
    "yazar_ortalamalari = {yazar: yazar_satis[yazar] / yazar_sayisi[yazar] for yazar in yazar_satis}\n",
    "\n",
    "ust_ortalama_kitaplar = []\n",
    "for kitap in test_set:\n",
    "    yazar = kitap[\"yazar\"]\n",
    "    ortalama = yazar_ortalamalari.get(yazar, 0)\n",
    "    if kitap[\"satis\"] > ortalama:\n",
    "        ust_ortalama_kitaplar.append(kitap[\"isim\"])\n",
    "\n",
    "\n",
    "\n",
    "print(\"En çok satan kitap:\", en_cok_satan(kitaplar))\n",
    "print(\"Yazar satişlari:\", yazar_satislari(kitaplar))\n",
    "print(\"Kitap türleri:\", turler)\n",
    "print(\"Popüler kitaplar:\", populer_kitaplar)\n",
    "print(\"2020 sonrasi çikanlar:\", [k[\"isim\"] for k in yeni_kitaplar])\n",
    "print(\"Zamli satişlar:\", zamli_satislar)\n",
    "print(\"Satişa göre sirali kitaplar:\", [k[\"isim\"] for k in sirali_kitaplar])\n",
    "print(\"Ortalama satiş:\", ortalama_satis)\n",
    "print(\"En çok satan tür:\", en_populer_tur)\n",
    "print(\"Satişlarin standart sapmasi:\", std_sapma)\n",
    "print(\"Train set yazar ortalamalari:\", yazar_ortalamalari)\n",
    "print(\"Test sette ortalamanin üstünde satan kitaplar:\", ust_ortalama_kitaplar)"
   ]
  }
 ],
 "metadata": {
  "kernelspec": {
   "display_name": "Python 3",
   "language": "python",
   "name": "python3"
  },
  "language_info": {
   "codemirror_mode": {
    "name": "ipython",
    "version": 3
   },
   "file_extension": ".py",
   "mimetype": "text/x-python",
   "name": "python",
   "nbconvert_exporter": "python",
   "pygments_lexer": "ipython3",
   "version": "3.13.5"
  }
 },
 "nbformat": 4,
 "nbformat_minor": 5
}
